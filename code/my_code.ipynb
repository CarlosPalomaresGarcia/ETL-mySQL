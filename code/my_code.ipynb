{
 "cells": [
  {
   "attachments": {},
   "cell_type": "markdown",
   "metadata": {},
   "source": [
    "## Importo librerias"
   ]
  },
  {
   "cell_type": "code",
   "execution_count": 1,
   "metadata": {},
   "outputs": [
    {
     "name": "stdout",
     "output_type": "stream",
     "text": [
      "Requirement already satisfied: mysql-connector-python in c:\\users\\carlo\\anaconda3\\lib\\site-packages (8.0.32)Note: you may need to restart the kernel to use updated packages.\n",
      "\n",
      "Requirement already satisfied: protobuf<=3.20.3,>=3.11.0 in c:\\users\\carlo\\anaconda3\\lib\\site-packages (from mysql-connector-python) (3.20.3)\n"
     ]
    }
   ],
   "source": [
    "import pandas as pd\n",
    "import numpy as np\n",
    "%pip install mysql-connector-python\n",
    "import mysql.connector as conn"
   ]
  },
  {
   "attachments": {},
   "cell_type": "markdown",
   "metadata": {},
   "source": [
    "## Importacion de datos"
   ]
  },
  {
   "cell_type": "code",
   "execution_count": 2,
   "metadata": {},
   "outputs": [],
   "source": [
    "actor = pd.read_csv(r'..\\data\\actor.csv',encoding='ISO-8859-1')\n",
    "category = pd.read_csv(r'..\\data\\category.csv',encoding='ISO-8859-1')\n",
    "film = pd.read_csv(r'..\\data\\film.csv',encoding='ISO-8859-1')\n",
    "inventory = pd.read_csv(r'..\\data\\inventory.csv',encoding='ISO-8859-1')\n",
    "language = pd.read_csv(r'..\\data\\language.csv',encoding='ISO-8859-1')\n",
    "old_hdd = pd.read_csv(r'..\\data\\old_HDD.csv',encoding='ISO-8859-1')\n",
    "rental = pd.read_csv(r'..\\data\\rental.csv',encoding='ISO-8859-1')"
   ]
  },
  {
   "attachments": {},
   "cell_type": "markdown",
   "metadata": {},
   "source": [
    "## Primera limpieza de los datos"
   ]
  },
  {
   "cell_type": "code",
   "execution_count": 3,
   "metadata": {},
   "outputs": [],
   "source": [
    "def limpiar_dataframe(df):\n",
    "    # Cambiar el formato de la columna last_update a tipo fecha (YYYY-MM-DD), quitando la hora.\n",
    "    if 'last_update' in df.columns:\n",
    "        df['last_update'] = pd.to_datetime(df['last_update'], format='%Y-%m-%d')\n",
    "    \n",
    "    # Cambiar el formato de las columnas a minuscula con la primera en mayuscula.\n",
    "    # Solo aplicarlo para las columnas que sean contengan string.\n",
    "    for column_name in df.select_dtypes(include=['object']).columns:\n",
    "        df[column_name] = df[column_name].str.lower().str.capitalize()\n",
    "\n",
    "\n",
    "    # Rellenar los valores nulos con 'NoInfo'.\n",
    "    df.fillna('NoInfo', inplace=True)"
   ]
  },
  {
   "cell_type": "code",
   "execution_count": 4,
   "metadata": {},
   "outputs": [],
   "source": [
    "# Limpio todas los dataframes.\n",
    "limpiar_dataframe(actor)\n",
    "limpiar_dataframe(category)\n",
    "limpiar_dataframe(film)\n",
    "limpiar_dataframe(inventory)\n",
    "limpiar_dataframe(language)\n",
    "limpiar_dataframe(old_hdd)\n",
    "limpiar_dataframe(rental)"
   ]
  },
  {
   "attachments": {},
   "cell_type": "markdown",
   "metadata": {},
   "source": [
    "En el dataframe 'film' cambio los datos en la columna Language por las siglas. Segun la ISO 639-1 sera un string de dos letras."
   ]
  },
  {
   "cell_type": "code",
   "execution_count": 5,
   "metadata": {},
   "outputs": [],
   "source": [
    "# Como esta columna tiene como valor unico '1' lo cambio todo por 'EN'\n",
    "film.loc[:, 'language_id'] = 'EN'"
   ]
  },
  {
   "attachments": {},
   "cell_type": "markdown",
   "metadata": {},
   "source": [
    "Junto first name y last name en una nueva columna que se llama full_name. Para que me sirva de nexo entre los dos data frame"
   ]
  },
  {
   "cell_type": "code",
   "execution_count": 6,
   "metadata": {},
   "outputs": [],
   "source": [
    "actor['full_name'] = actor['last_name'] + ' ' + actor['first_name']\n",
    "old_hdd['full_name'] = old_hdd['last_name'] + ' ' + old_hdd['first_name']\n"
   ]
  },
  {
   "cell_type": "code",
   "execution_count": 7,
   "metadata": {},
   "outputs": [],
   "source": [
    "# Hago un left join de old_hdd con actor\n",
    "old_hdd = old_hdd.merge(actor, on = 'full_name', how='left')"
   ]
  },
  {
   "cell_type": "code",
   "execution_count": 8,
   "metadata": {},
   "outputs": [
    {
     "data": {
      "text/plain": [
       "Index(['first_name_x', 'last_name_x', 'title', 'release_year', 'category_id',\n",
       "       'full_name', 'actor_id', 'first_name_y', 'last_name_y', 'last_update'],\n",
       "      dtype='object')"
      ]
     },
     "execution_count": 8,
     "metadata": {},
     "output_type": "execute_result"
    }
   ],
   "source": [
    "# Debido al merge, me ha creado todas las columnas que tenia actor dentro de old_hdd\n",
    "old_hdd.columns"
   ]
  },
  {
   "cell_type": "code",
   "execution_count": 9,
   "metadata": {},
   "outputs": [],
   "source": [
    "# Hago un left join de old_hdd con film.\n",
    "old_hdd = old_hdd.merge(film, on= 'title', how='left')"
   ]
  },
  {
   "cell_type": "code",
   "execution_count": 10,
   "metadata": {},
   "outputs": [
    {
     "data": {
      "text/plain": [
       "Index(['first_name_x', 'last_name_x', 'title', 'release_year_x', 'category_id',\n",
       "       'full_name', 'actor_id', 'first_name_y', 'last_name_y', 'last_update_x',\n",
       "       'film_id', 'description', 'release_year_y', 'language_id',\n",
       "       'original_language_id', 'rental_duration', 'rental_rate', 'length',\n",
       "       'replacement_cost', 'rating', 'special_features', 'last_update_y'],\n",
       "      dtype='object')"
      ]
     },
     "execution_count": 10,
     "metadata": {},
     "output_type": "execute_result"
    }
   ],
   "source": [
    "# Debido al merge, me ha creado todas las columnas que tenia film dentro de old_hdd\n",
    "old_hdd.columns"
   ]
  },
  {
   "cell_type": "code",
   "execution_count": 11,
   "metadata": {},
   "outputs": [],
   "source": [
    "# Hago un left join de old_hdd con film.\n",
    "old_hdd = old_hdd.merge(category, on= 'category_id', how='left')"
   ]
  },
  {
   "cell_type": "code",
   "execution_count": 12,
   "metadata": {},
   "outputs": [
    {
     "data": {
      "text/plain": [
       "Index(['first_name_x', 'last_name_x', 'title', 'release_year_x', 'category_id',\n",
       "       'full_name', 'actor_id', 'first_name_y', 'last_name_y', 'last_update_x',\n",
       "       'film_id', 'description', 'release_year_y', 'language_id',\n",
       "       'original_language_id', 'rental_duration', 'rental_rate', 'length',\n",
       "       'replacement_cost', 'rating', 'special_features', 'last_update_y',\n",
       "       'name', 'last_update'],\n",
       "      dtype='object')"
      ]
     },
     "execution_count": 12,
     "metadata": {},
     "output_type": "execute_result"
    }
   ],
   "source": [
    "# Debido al merge, me ha creado todas las columnas que tenia category dentro de old_hdd\n",
    "old_hdd.columns"
   ]
  },
  {
   "cell_type": "code",
   "execution_count": 13,
   "metadata": {},
   "outputs": [
    {
     "name": "stderr",
     "output_type": "stream",
     "text": [
      "C:\\Users\\carlo\\AppData\\Local\\Temp\\ipykernel_6028\\3024531712.py:4: FutureWarning: Passing 'suffixes' which cause duplicate columns {'last_update_y'} in the result is deprecated and will raise a MergeError in a future version.\n",
      "  film = film.merge(old_hdd, on= 'film_id', how='left')\n"
     ]
    }
   ],
   "source": [
    "# Hago un merge de film con el nuevo old_hdd que tiene ahora todas las columnas de film, actor y category.\n",
    "# Esto me va a permitir añadir category a films.\n",
    "# Esto va a generar duplicados en la nueva 'films'\n",
    "film = film.merge(old_hdd, on= 'film_id', how='left')"
   ]
  },
  {
   "cell_type": "code",
   "execution_count": 14,
   "metadata": {},
   "outputs": [
    {
     "data": {
      "text/plain": [
       "Index(['film_id', 'title_x', 'description_x', 'release_year', 'language_id_x',\n",
       "       'original_language_id_x', 'rental_duration_x', 'rental_rate_x',\n",
       "       'length_x', 'replacement_cost_x', 'rating_x', 'special_features_x',\n",
       "       'last_update_x', 'first_name_x', 'last_name_x', 'title_y',\n",
       "       'release_year_x', 'category_id', 'full_name', 'actor_id',\n",
       "       'first_name_y', 'last_name_y', 'last_update_x', 'description_y',\n",
       "       'release_year_y', 'language_id_y', 'original_language_id_y',\n",
       "       'rental_duration_y', 'rental_rate_y', 'length_y', 'replacement_cost_y',\n",
       "       'rating_y', 'special_features_y', 'last_update_y', 'name',\n",
       "       'last_update_y'],\n",
       "      dtype='object')"
      ]
     },
     "execution_count": 14,
     "metadata": {},
     "output_type": "execute_result"
    }
   ],
   "source": [
    "film.columns"
   ]
  },
  {
   "cell_type": "code",
   "execution_count": 15,
   "metadata": {},
   "outputs": [],
   "source": [
    "# Elimino todas las columnas duplicadas y original_language_id\n",
    "film.drop(columns= ['original_language_id_x','title_y','release_year_x','full_name', 'actor_id','first_name_y',\n",
    "                    'last_name_y', 'last_update_x', 'description_y','release_year_y', 'language_id_y', 'original_language_id_y',\n",
    "                    'rental_duration_y', 'rental_rate_y', 'length_y', 'replacement_cost_y','rating_y', 'special_features_y',\n",
    "                    'last_update_y', 'name','last_update_y','first_name_x', 'last_name_x'], inplace=True)"
   ]
  },
  {
   "cell_type": "code",
   "execution_count": 16,
   "metadata": {},
   "outputs": [
    {
     "data": {
      "text/plain": [
       "Index(['film_id', 'title_x', 'description_x', 'release_year', 'language_id_x',\n",
       "       'rental_duration_x', 'rental_rate_x', 'length_x', 'replacement_cost_x',\n",
       "       'rating_x', 'special_features_x', 'category_id'],\n",
       "      dtype='object')"
      ]
     },
     "execution_count": 16,
     "metadata": {},
     "output_type": "execute_result"
    }
   ],
   "source": [
    "film.columns"
   ]
  },
  {
   "cell_type": "code",
   "execution_count": 17,
   "metadata": {},
   "outputs": [],
   "source": [
    "# Aprovecho para cambiar nombres de columnas en film\n",
    "film =film.rename(columns = {'title_x' : 'title', 'description_x':'description',  'language_id_x': 'language', 'rental_duration_x':'rental_duration',\n",
    "                             'rental_rate_x':'rental_rate', 'length_x':'length', 'replacement_cost_x':'replacement_cost', 'rating_x':'rating',\n",
    "                             'special_features_x':'special_features','category_id':'genre'})"
   ]
  },
  {
   "attachments": {},
   "cell_type": "markdown",
   "metadata": {},
   "source": [
    "En old_hdd solo me tengo que quedar con las dos Foreign Key de actor y film"
   ]
  },
  {
   "cell_type": "code",
   "execution_count": 18,
   "metadata": {},
   "outputs": [
    {
     "data": {
      "text/plain": [
       "Index(['first_name_x', 'last_name_x', 'title', 'release_year_x', 'category_id',\n",
       "       'full_name', 'actor_id', 'first_name_y', 'last_name_y', 'last_update_x',\n",
       "       'film_id', 'description', 'release_year_y', 'language_id',\n",
       "       'original_language_id', 'rental_duration', 'rental_rate', 'length',\n",
       "       'replacement_cost', 'rating', 'special_features', 'last_update_y',\n",
       "       'name', 'last_update'],\n",
       "      dtype='object')"
      ]
     },
     "execution_count": 18,
     "metadata": {},
     "output_type": "execute_result"
    }
   ],
   "source": [
    "#Comprobar que columnas tengo que eliminar para quedarme solo con las dos que necesito.\n",
    "old_hdd.columns"
   ]
  },
  {
   "cell_type": "code",
   "execution_count": 19,
   "metadata": {},
   "outputs": [],
   "source": [
    "# Elimino las columnas que no necesito.\n",
    "old_hdd.drop(columns=['first_name_x', 'last_name_x', 'title', 'release_year_x', 'category_id',\n",
    "       'full_name', 'first_name_y', 'last_name_y', 'last_update_x',\n",
    "       'description', 'release_year_y', 'language_id',\n",
    "       'original_language_id', 'rental_duration', 'rental_rate', 'length',\n",
    "       'replacement_cost', 'rating', 'special_features', 'last_update_y',\n",
    "       'name', 'last_update'] , inplace=True)"
   ]
  },
  {
   "cell_type": "code",
   "execution_count": 20,
   "metadata": {},
   "outputs": [
    {
     "data": {
      "text/plain": [
       "Index(['actor_id', 'film_id'], dtype='object')"
      ]
     },
     "execution_count": 20,
     "metadata": {},
     "output_type": "execute_result"
    }
   ],
   "source": [
    "# Compruebo nuevo estado de old_hdd\n",
    "old_hdd.columns"
   ]
  },
  {
   "attachments": {},
   "cell_type": "markdown",
   "metadata": {},
   "source": [
    "Relacion de film con Rental."
   ]
  },
  {
   "cell_type": "code",
   "execution_count": 21,
   "metadata": {},
   "outputs": [],
   "source": [
    "# Le añado todas las columnas de inventory a rental\n",
    "rental = rental.merge(inventory, on= 'inventory_id', how='left')"
   ]
  },
  {
   "cell_type": "code",
   "execution_count": 22,
   "metadata": {},
   "outputs": [
    {
     "data": {
      "text/plain": [
       "Index(['rental_id', 'rental_date', 'inventory_id', 'customer_id',\n",
       "       'return_date', 'staff_id', 'last_update_x', 'film_id', 'store_id',\n",
       "       'last_update_y'],\n",
       "      dtype='object')"
      ]
     },
     "execution_count": 22,
     "metadata": {},
     "output_type": "execute_result"
    }
   ],
   "source": [
    "# Reviso nuevo estado de rental\n",
    "rental.columns"
   ]
  },
  {
   "cell_type": "code",
   "execution_count": 23,
   "metadata": {},
   "outputs": [],
   "source": [
    "# Ver que columnas puedo borrar y renombrar\n",
    "rental.drop(columns = ['last_update_y','customer_id','staff_id','store_id'],inplace=True)"
   ]
  },
  {
   "attachments": {},
   "cell_type": "markdown",
   "metadata": {},
   "source": [
    "Como ya tengo todos los datos del stock metido en rental, el data frame inventory no me hace falta."
   ]
  },
  {
   "attachments": {},
   "cell_type": "markdown",
   "metadata": {},
   "source": [
    "Reviso y quito todos los duplicados que tengo en el data frame film"
   ]
  },
  {
   "cell_type": "code",
   "execution_count": 25,
   "metadata": {},
   "outputs": [
    {
     "name": "stdout",
     "output_type": "stream",
     "text": [
      "<class 'pandas.core.frame.DataFrame'>\n",
      "Int64Index: 1386 entries, 0 to 1385\n",
      "Data columns (total 12 columns):\n",
      " #   Column            Non-Null Count  Dtype  \n",
      "---  ------            --------------  -----  \n",
      " 0   film_id           1386 non-null   int64  \n",
      " 1   title             1386 non-null   object \n",
      " 2   description       1386 non-null   object \n",
      " 3   release_year      1386 non-null   int64  \n",
      " 4   language          1386 non-null   object \n",
      " 5   rental_duration   1386 non-null   int64  \n",
      " 6   rental_rate       1386 non-null   float64\n",
      " 7   length            1386 non-null   int64  \n",
      " 8   replacement_cost  1386 non-null   float64\n",
      " 9   rating            1386 non-null   object \n",
      " 10  special_features  1386 non-null   object \n",
      " 11  genre             1000 non-null   float64\n",
      "dtypes: float64(3), int64(4), object(5)\n",
      "memory usage: 140.8+ KB\n"
     ]
    }
   ],
   "source": [
    "# Tengo 386 duplicados en cada columna.\n",
    "film.info()"
   ]
  },
  {
   "cell_type": "code",
   "execution_count": 26,
   "metadata": {},
   "outputs": [
    {
     "data": {
      "text/plain": [
       "386"
      ]
     },
     "execution_count": 26,
     "metadata": {},
     "output_type": "execute_result"
    }
   ],
   "source": [
    "film.duplicated().sum()"
   ]
  },
  {
   "cell_type": "code",
   "execution_count": 27,
   "metadata": {},
   "outputs": [],
   "source": [
    "film.drop_duplicates( inplace=True)"
   ]
  },
  {
   "cell_type": "code",
   "execution_count": 28,
   "metadata": {},
   "outputs": [
    {
     "name": "stdout",
     "output_type": "stream",
     "text": [
      "0\n",
      "0\n",
      "0\n",
      "0\n"
     ]
    }
   ],
   "source": [
    "# Compruebo duplicados de todos los data frame.\n",
    "print(film.duplicated().sum())\n",
    "print(actor.duplicated().sum())\n",
    "print(old_hdd.duplicated().sum())\n",
    "print(rental.duplicated().sum())"
   ]
  },
  {
   "attachments": {},
   "cell_type": "markdown",
   "metadata": {},
   "source": [
    "Creo una funcion para cambiar el id del genero por el nombre del genero."
   ]
  },
  {
   "cell_type": "code",
   "execution_count": 29,
   "metadata": {},
   "outputs": [],
   "source": [
    "film['genre'] = film['genre'].fillna(0).astype(int)"
   ]
  },
  {
   "cell_type": "code",
   "execution_count": 30,
   "metadata": {},
   "outputs": [
    {
     "data": {
      "text/plain": [
       "array([ 6, 11,  0,  9, 15, 12,  4,  1,  2, 13,  8, 14,  7, 16, 10,  3,  5])"
      ]
     },
     "execution_count": 30,
     "metadata": {},
     "output_type": "execute_result"
    }
   ],
   "source": [
    "film.genre.unique()"
   ]
  },
  {
   "cell_type": "code",
   "execution_count": 31,
   "metadata": {},
   "outputs": [],
   "source": [
    "#Hago una funcion para que me cambie los numeros por los valores en texto.\n",
    "def cambiar_genero(valor):\n",
    "    if valor == 1:\n",
    "        return 'Action'\n",
    "    elif valor == 2:\n",
    "        return 'Animation'\n",
    "    elif valor == 3:\n",
    "        return 'Children'\n",
    "    elif valor == 4:\n",
    "        return 'Classics'\n",
    "    elif valor == 5:\n",
    "        return 'Comedy'\n",
    "    elif valor == 6:\n",
    "        return 'Documentary'\n",
    "    elif valor == 7:\n",
    "        return 'Drama'\n",
    "    elif valor == 8:\n",
    "        return 'Family'\n",
    "    elif valor == 9:\n",
    "        return 'Foreign'\n",
    "    elif valor == 10:\n",
    "        return 'Games'\n",
    "    elif valor == 11:\n",
    "        return 'Horror'\n",
    "    elif valor == 12:\n",
    "        return 'Music'\n",
    "    elif valor == 13:\n",
    "        return 'New'\n",
    "    elif valor == 14:\n",
    "        return 'Sci-fi'\n",
    "    elif valor == 15:\n",
    "        return 'Sports'\n",
    "    elif valor == 16:\n",
    "        return 'Travel'\n",
    "    else:\n",
    "        return 'NoInfo'"
   ]
  },
  {
   "cell_type": "code",
   "execution_count": 32,
   "metadata": {},
   "outputs": [],
   "source": [
    "# Aplico la funcion con .apply()\n",
    "film['genre'] = film['genre'].apply(cambiar_genero)"
   ]
  },
  {
   "attachments": {},
   "cell_type": "markdown",
   "metadata": {},
   "source": [
    "Colocar, renombrar y eliminar las columnas de todos los Data Frame"
   ]
  },
  {
   "cell_type": "code",
   "execution_count": 33,
   "metadata": {},
   "outputs": [
    {
     "name": "stdout",
     "output_type": "stream",
     "text": [
      "<class 'pandas.core.frame.DataFrame'>\n",
      "Int64Index: 1000 entries, 0 to 1385\n",
      "Data columns (total 12 columns):\n",
      " #   Column            Non-Null Count  Dtype  \n",
      "---  ------            --------------  -----  \n",
      " 0   film_id           1000 non-null   int64  \n",
      " 1   title             1000 non-null   object \n",
      " 2   description       1000 non-null   object \n",
      " 3   release_year      1000 non-null   int64  \n",
      " 4   language          1000 non-null   object \n",
      " 5   rental_duration   1000 non-null   int64  \n",
      " 6   rental_rate       1000 non-null   float64\n",
      " 7   length            1000 non-null   int64  \n",
      " 8   replacement_cost  1000 non-null   float64\n",
      " 9   rating            1000 non-null   object \n",
      " 10  special_features  1000 non-null   object \n",
      " 11  genre             1000 non-null   object \n",
      "dtypes: float64(2), int64(4), object(6)\n",
      "memory usage: 101.6+ KB\n"
     ]
    }
   ],
   "source": [
    "film.info()"
   ]
  },
  {
   "attachments": {},
   "cell_type": "markdown",
   "metadata": {},
   "source": [
    "'actor'"
   ]
  },
  {
   "cell_type": "code",
   "execution_count": 34,
   "metadata": {},
   "outputs": [
    {
     "name": "stdout",
     "output_type": "stream",
     "text": [
      "<class 'pandas.core.frame.DataFrame'>\n",
      "RangeIndex: 200 entries, 0 to 199\n",
      "Data columns (total 5 columns):\n",
      " #   Column       Non-Null Count  Dtype         \n",
      "---  ------       --------------  -----         \n",
      " 0   actor_id     200 non-null    int64         \n",
      " 1   first_name   200 non-null    object        \n",
      " 2   last_name    200 non-null    object        \n",
      " 3   last_update  200 non-null    datetime64[ns]\n",
      " 4   full_name    200 non-null    object        \n",
      "dtypes: datetime64[ns](1), int64(1), object(3)\n",
      "memory usage: 7.9+ KB\n"
     ]
    }
   ],
   "source": [
    "actor.info()"
   ]
  },
  {
   "cell_type": "code",
   "execution_count": 35,
   "metadata": {},
   "outputs": [
    {
     "name": "stdout",
     "output_type": "stream",
     "text": [
      "<class 'pandas.core.frame.DataFrame'>\n",
      "Int64Index: 1000 entries, 0 to 999\n",
      "Data columns (total 2 columns):\n",
      " #   Column    Non-Null Count  Dtype\n",
      "---  ------    --------------  -----\n",
      " 0   actor_id  1000 non-null   int64\n",
      " 1   film_id   1000 non-null   int64\n",
      "dtypes: int64(2)\n",
      "memory usage: 23.4 KB\n"
     ]
    }
   ],
   "source": [
    "old_hdd.info()"
   ]
  },
  {
   "cell_type": "code",
   "execution_count": 36,
   "metadata": {},
   "outputs": [],
   "source": [
    "old_hdd.rename(columns={'actor_id': 'actor_actor_id', 'film_id': 'film_film_id'}, inplace=True)"
   ]
  },
  {
   "cell_type": "code",
   "execution_count": 37,
   "metadata": {},
   "outputs": [],
   "source": [
    "# Cambio de nombre al data frame.\n",
    "film_actor = old_hdd"
   ]
  },
  {
   "attachments": {},
   "cell_type": "markdown",
   "metadata": {},
   "source": [
    "Revision rental.\n"
   ]
  },
  {
   "cell_type": "code",
   "execution_count": 38,
   "metadata": {},
   "outputs": [
    {
     "name": "stdout",
     "output_type": "stream",
     "text": [
      "220.0\n",
      "1.0\n",
      "212\n"
     ]
    }
   ],
   "source": [
    "# Solo estan metidos 212 titulos, de los 1000 segun el listado de peliculas de la tabla film\n",
    "print(rental.film_id.max())\n",
    "print(rental.film_id.min())\n",
    "print(rental.film_id.count())"
   ]
  },
  {
   "cell_type": "code",
   "execution_count": 39,
   "metadata": {},
   "outputs": [
    {
     "name": "stdout",
     "output_type": "stream",
     "text": [
      "4581\n",
      "2\n",
      "212\n"
     ]
    }
   ],
   "source": [
    "# Deberia tener la informacion de 4581 peliculas fisicas, pero solo tengo 1000 entradas de 212 peliculas.\n",
    "print(rental.inventory_id.max())\n",
    "print(rental.inventory_id.min())\n",
    "print(rental.film_id.count())"
   ]
  },
  {
   "attachments": {},
   "cell_type": "markdown",
   "metadata": {},
   "source": [
    "Conclusiones:\n",
    "\n",
    "    En total hay 1000 titulos registrados.\n",
    "    Solo se han metido datos de 212 titulos en inventario.\n",
    "    En el inventario deberia haber 4600 registros, ya que hay peliculas con varias copias en stock.\n",
    "    De los 4600 solo tenemos registrados 1000.\n",
    "\n",
    "Acciones tomadas con la informacion de la que disponemos:\n",
    "\n",
    "    Eliminar todas las filas que tengan nulos (o no tengan informacion) en la columna film_id.\n",
    "    Si no tengo informacion sobre ellas, no las necesito.\n",
    "    Mi nuevo rental_id sera el inventory_id que ira de 1 a 1000"
   ]
  },
  {
   "cell_type": "code",
   "execution_count": 40,
   "metadata": {},
   "outputs": [],
   "source": [
    "rental.dropna(subset=['film_id'], inplace=True)"
   ]
  },
  {
   "cell_type": "code",
   "execution_count": 41,
   "metadata": {},
   "outputs": [],
   "source": [
    "# Cambio a tipo integer estas dos columnas.\n",
    "rental['film_id'] = rental['film_id'].astype(int)\n",
    "rental['inventory_id'] = rental['inventory_id'].astype(int)"
   ]
  },
  {
   "cell_type": "code",
   "execution_count": 42,
   "metadata": {},
   "outputs": [
    {
     "name": "stdout",
     "output_type": "stream",
     "text": [
      "<class 'pandas.core.frame.DataFrame'>\n",
      "Int64Index: 212 entries, 0 to 993\n",
      "Data columns (total 6 columns):\n",
      " #   Column         Non-Null Count  Dtype         \n",
      "---  ------         --------------  -----         \n",
      " 0   rental_id      212 non-null    int64         \n",
      " 1   rental_date    212 non-null    object        \n",
      " 2   inventory_id   212 non-null    int32         \n",
      " 3   return_date    212 non-null    object        \n",
      " 4   last_update_x  212 non-null    datetime64[ns]\n",
      " 5   film_id        212 non-null    int32         \n",
      "dtypes: datetime64[ns](1), int32(2), int64(1), object(2)\n",
      "memory usage: 9.9+ KB\n"
     ]
    }
   ],
   "source": [
    "rental.info()"
   ]
  },
  {
   "cell_type": "code",
   "execution_count": 43,
   "metadata": {},
   "outputs": [],
   "source": [
    "#Elimino rental_id\n",
    "rental = rental.drop('rental_id', axis=1)"
   ]
  },
  {
   "cell_type": "code",
   "execution_count": 44,
   "metadata": {},
   "outputs": [],
   "source": [
    "# Creo un nuevo indice de rental_id\n",
    "rental['rental_id'] = range(1, len(rental) + 1)\n",
    "rental.set_index('rental_id', inplace=True)\n"
   ]
  },
  {
   "cell_type": "code",
   "execution_count": 45,
   "metadata": {},
   "outputs": [
    {
     "data": {
      "text/plain": [
       "Index(['rental_date', 'inventory_id', 'return_date', 'last_update_x',\n",
       "       'film_id'],\n",
       "      dtype='object')"
      ]
     },
     "execution_count": 45,
     "metadata": {},
     "output_type": "execute_result"
    }
   ],
   "source": [
    "rental.columns"
   ]
  },
  {
   "cell_type": "code",
   "execution_count": 46,
   "metadata": {},
   "outputs": [],
   "source": [
    "rental.rename(columns={'film_id': 'film_film_id'}, inplace=True)"
   ]
  },
  {
   "cell_type": "code",
   "execution_count": 47,
   "metadata": {},
   "outputs": [
    {
     "name": "stdout",
     "output_type": "stream",
     "text": [
      "<class 'pandas.core.frame.DataFrame'>\n",
      "Int64Index: 212 entries, 1 to 212\n",
      "Data columns (total 5 columns):\n",
      " #   Column         Non-Null Count  Dtype         \n",
      "---  ------         --------------  -----         \n",
      " 0   rental_date    212 non-null    object        \n",
      " 1   inventory_id   212 non-null    int32         \n",
      " 2   return_date    212 non-null    object        \n",
      " 3   last_update_x  212 non-null    datetime64[ns]\n",
      " 4   film_film_id   212 non-null    int32         \n",
      "dtypes: datetime64[ns](1), int32(2), object(2)\n",
      "memory usage: 8.3+ KB\n"
     ]
    }
   ],
   "source": [
    "rental.info()"
   ]
  },
  {
   "attachments": {},
   "cell_type": "markdown",
   "metadata": {},
   "source": [
    "## Exportar las tablas 'limpias'"
   ]
  },
  {
   "cell_type": "code",
   "execution_count": 49,
   "metadata": {},
   "outputs": [],
   "source": [
    "actor.to_csv(r'..\\export_csv\\actor.csv', index=True)\n",
    "film.to_csv(r'..\\export_csv\\film.csv', index=True)\n",
    "inventory.to_csv(r'..\\export_csv\\inventory.csv', index=True)\n",
    "film_actor.to_csv(r'..\\export_csv\\film_actor.csv', index=True)\n",
    "rental.to_csv(r'..\\export_csv\\rental.csv', index=True)"
   ]
  }
 ],
 "metadata": {
  "kernelspec": {
   "display_name": "base",
   "language": "python",
   "name": "python3"
  },
  "language_info": {
   "codemirror_mode": {
    "name": "ipython",
    "version": 3
   },
   "file_extension": ".py",
   "mimetype": "text/x-python",
   "name": "python",
   "nbconvert_exporter": "python",
   "pygments_lexer": "ipython3",
   "version": "3.9.13"
  },
  "orig_nbformat": 4
 },
 "nbformat": 4,
 "nbformat_minor": 2
}
